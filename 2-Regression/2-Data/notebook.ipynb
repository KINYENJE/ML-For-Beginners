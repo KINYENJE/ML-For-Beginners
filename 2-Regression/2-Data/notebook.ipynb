{
 "cells": [
  {
   "cell_type": "markdown",
   "metadata": {},
   "source": [
    "# ANALYSING AND CLEANING PUMPKIN DATA"
   ]
  },
  {
   "cell_type": "code",
   "execution_count": 6,
   "metadata": {},
   "outputs": [
    {
     "name": "stdout",
     "output_type": "stream",
     "text": [
      "The first 5 rows of the data are: \n",
      "   City Name Type       Package      Variety Sub Variety  Grade     Date  \\\n",
      "0  BALTIMORE  NaN  24 inch bins          NaN         NaN    NaN  4/29/17   \n",
      "1  BALTIMORE  NaN  24 inch bins          NaN         NaN    NaN   5/6/17   \n",
      "2  BALTIMORE  NaN  24 inch bins  HOWDEN TYPE         NaN    NaN  9/24/16   \n",
      "3  BALTIMORE  NaN  24 inch bins  HOWDEN TYPE         NaN    NaN  9/24/16   \n",
      "4  BALTIMORE  NaN  24 inch bins  HOWDEN TYPE         NaN    NaN  11/5/16   \n",
      "\n",
      "   Low Price  High Price  Mostly Low  ...  Unit of Sale Quality Condition  \\\n",
      "0      270.0       280.0       270.0  ...           NaN     NaN       NaN   \n",
      "1      270.0       280.0       270.0  ...           NaN     NaN       NaN   \n",
      "2      160.0       160.0       160.0  ...           NaN     NaN       NaN   \n",
      "3      160.0       160.0       160.0  ...           NaN     NaN       NaN   \n",
      "4       90.0       100.0        90.0  ...           NaN     NaN       NaN   \n",
      "\n",
      "  Appearance Storage  Crop Repack  Trans Mode  Unnamed: 24  Unnamed: 25  \n",
      "0        NaN     NaN   NaN      E         NaN          NaN          NaN  \n",
      "1        NaN     NaN   NaN      E         NaN          NaN          NaN  \n",
      "2        NaN     NaN   NaN      N         NaN          NaN          NaN  \n",
      "3        NaN     NaN   NaN      N         NaN          NaN          NaN  \n",
      "4        NaN     NaN   NaN      N         NaN          NaN          NaN  \n",
      "\n",
      "[5 rows x 26 columns]\n"
     ]
    }
   ],
   "source": [
    "import pandas as pd\n",
    "\n",
    "# Read the data from the CSV file\n",
    "pumpkins_raw_data = pd.read_csv('../data/US-pumpkins.csv')\n",
    "\n",
    "# Display the first 5 rows of the data\n",
    "\n",
    "print(f\"The first 5 rows of the data are: \\n{pumpkins_raw_data.head()}\")\n",
    "\n"
   ]
  },
  {
   "cell_type": "markdown",
   "metadata": {},
   "source": [
    "## Below we Filter out any rows that don't use price per bushel in the package column."
   ]
  },
  {
   "cell_type": "code",
   "execution_count": 9,
   "metadata": {},
   "outputs": [
    {
     "name": "stdout",
     "output_type": "stream",
     "text": [
      "The first 5 rows of the filtered data are: \n",
      "    City Name Type               Package   Variety Sub Variety  Grade  \\\n",
      "70  BALTIMORE  NaN  1 1/9 bushel cartons  PIE TYPE         NaN    NaN   \n",
      "71  BALTIMORE  NaN  1 1/9 bushel cartons  PIE TYPE         NaN    NaN   \n",
      "72  BALTIMORE  NaN  1 1/9 bushel cartons  PIE TYPE         NaN    NaN   \n",
      "73  BALTIMORE  NaN  1 1/9 bushel cartons  PIE TYPE         NaN    NaN   \n",
      "74  BALTIMORE  NaN  1 1/9 bushel cartons  PIE TYPE         NaN    NaN   \n",
      "\n",
      "       Date  Low Price  High Price  Mostly Low  ...  Unit of Sale Quality  \\\n",
      "70  9/24/16       15.0        15.0        15.0  ...           NaN     NaN   \n",
      "71  9/24/16       18.0        18.0        18.0  ...           NaN     NaN   \n",
      "72  10/1/16       18.0        18.0        18.0  ...           NaN     NaN   \n",
      "73  10/1/16       17.0        17.0        17.0  ...           NaN     NaN   \n",
      "74  10/8/16       15.0        15.0        15.0  ...           NaN     NaN   \n",
      "\n",
      "   Condition Appearance Storage  Crop Repack  Trans Mode  Unnamed: 24  \\\n",
      "70       NaN        NaN     NaN   NaN      N         NaN          NaN   \n",
      "71       NaN        NaN     NaN   NaN      N         NaN          NaN   \n",
      "72       NaN        NaN     NaN   NaN      N         NaN          NaN   \n",
      "73       NaN        NaN     NaN   NaN      N         NaN          NaN   \n",
      "74       NaN        NaN     NaN   NaN      N         NaN          NaN   \n",
      "\n",
      "    Unnamed: 25  \n",
      "70          NaN  \n",
      "71          NaN  \n",
      "72          NaN  \n",
      "73          NaN  \n",
      "74          NaN  \n",
      "\n",
      "[5 rows x 26 columns]\n"
     ]
    }
   ],
   "source": [
    "# Filter out any rows that don't use price per bushel\n",
    "pumpkins_bushel_data = pumpkins_raw_data[pumpkins_raw_data[\"Package\"].str.contains(\"bushel\", case=True, regex=True)] # The case=False argument is used to ignore the case of the string and the regex=True argument is used to enable the use of regular expressions in the filter method of the pandas library like the contains method used in this case to filter out the rows that contain the string \"bushel\" in the \"Package\" column of the data \n",
    "\n",
    "# Display the first 5 rows of the filtered data\n",
    "print(f\"The first 5 rows of the filtered data are: \\n{pumpkins_bushel_data.head()}\")\n"
   ]
  },
  {
   "cell_type": "markdown",
   "metadata": {},
   "source": [
    "## Count how many cellls are empty in each column"
   ]
  },
  {
   "cell_type": "code",
   "execution_count": 10,
   "metadata": {},
   "outputs": [
    {
     "data": {
      "text/plain": [
       "City Name            0\n",
       "Type               406\n",
       "Package              0\n",
       "Variety              0\n",
       "Sub Variety        167\n",
       "Grade              415\n",
       "Date                 0\n",
       "Low Price            0\n",
       "High Price           0\n",
       "Mostly Low          24\n",
       "Mostly High         24\n",
       "Origin               0\n",
       "Origin District    396\n",
       "Item Size          114\n",
       "Color              145\n",
       "Environment        415\n",
       "Unit of Sale       404\n",
       "Quality            415\n",
       "Condition          415\n",
       "Appearance         415\n",
       "Storage            415\n",
       "Crop               415\n",
       "Repack               0\n",
       "Trans Mode         415\n",
       "Unnamed: 24        415\n",
       "Unnamed: 25        391\n",
       "dtype: int64"
      ]
     },
     "execution_count": 10,
     "metadata": {},
     "output_type": "execute_result"
    }
   ],
   "source": [
    "# Count how many cells are emptty in each column\n",
    "pumpkins_bushel_data.isnull().sum() # The isnull() method is used to check for missing values in the data and the sum() method is used to count the number of missing values in each column of the data"
   ]
  },
  {
   "cell_type": "markdown",
   "metadata": {},
   "source": [
    "## Since the columns we are interested in are not empty, we proceed to get the columns we want to work with. Which are the package, date,low price and high price columns."
   ]
  },
  {
   "cell_type": "code",
   "execution_count": 13,
   "metadata": {},
   "outputs": [
    {
     "name": "stdout",
     "output_type": "stream",
     "text": [
      "The first 5 rows of the new DataFrame are: \n",
      "                 Package     Date  Low Price  High Price\n",
      "70  1 1/9 bushel cartons  9/24/16       15.0        15.0\n",
      "71  1 1/9 bushel cartons  9/24/16       18.0        18.0\n",
      "72  1 1/9 bushel cartons  10/1/16       18.0        18.0\n",
      "73  1 1/9 bushel cartons  10/1/16       17.0        17.0\n",
      "74  1 1/9 bushel cartons  10/8/16       15.0        15.0\n"
     ]
    }
   ],
   "source": [
    "#  Define the columns that we want to keep\n",
    "new_columns = [\"Package\", \"Month\", \"Low Price\", \"High Price\", \"Date\"]\n",
    "\n",
    "# Create a new DataFrame with only the columns we want\n",
    "pumpkins_selected_column_data = pumpkins_bushel_data.drop([c for c in pumpkins_bushel_data.columns if c not in new_columns], axis=1) # The drop() method is used to remove the columns that are not in the new_columns list from the data the axis=1 argument is used to specify that the columns are to be removed and not the rows if the axis=0 argument is used the rows will be removed\n",
    "\n",
    "# Display the first 5 rows of the new DataFrame\n",
    "print(f\"The first 5 rows of the new DataFrame are: \\n{pumpkins_selected_column_data.head()}\")"
   ]
  },
  {
   "cell_type": "markdown",
   "metadata": {},
   "source": [
    "## Calculate the average price of pumpkins and extract the month from the date column."
   ]
  },
  {
   "cell_type": "code",
   "execution_count": 14,
   "metadata": {},
   "outputs": [
    {
     "name": "stdout",
     "output_type": "stream",
     "text": [
      "The first 5 rows of the new DataFrame are: \n",
      "                 Package  Month  Low Price  High Price  Avg Price\n",
      "70  1 1/9 bushel cartons      9       15.0        15.0       15.0\n",
      "71  1 1/9 bushel cartons      9       18.0        18.0       18.0\n",
      "72  1 1/9 bushel cartons     10       18.0        18.0       18.0\n",
      "73  1 1/9 bushel cartons     10       17.0        17.0       17.0\n",
      "74  1 1/9 bushel cartons     10       15.0        15.0       15.0\n"
     ]
    }
   ],
   "source": [
    "# Calculate the average price of pumpkins from the low and high prices\n",
    "price = (pumpkins_selected_column_data[\"Low Price\"] + pumpkins_selected_column_data[\"High Price\"]) / 2\n",
    "\n",
    "# Get the month from the date column\n",
    "month = pd.DatetimeIndex(pumpkins_selected_column_data[\"Date\"]).month\n",
    "\n",
    "# Create a new DataFrame with the following columns\n",
    "new_pumpkins_data = pd.DataFrame({\"Package\": pumpkins_selected_column_data[\"Package\"], \"Month\": month, \"Low Price\": pumpkins_selected_column_data[\"Low Price\"], \"High Price\": pumpkins_selected_column_data[\"High Price\"], \"Avg Price\": price})\n",
    "\n",
    "# Display the first 5 rows of the new DataFrame\n",
    "print(f\"The first 5 rows of the new DataFrame are: \\n{new_pumpkins_data.head()}\")"
   ]
  },
  {
   "cell_type": "markdown",
   "metadata": {},
   "source": [
    "## Calculate price per bushel"
   ]
  },
  {
   "cell_type": "code",
   "execution_count": 19,
   "metadata": {},
   "outputs": [
    {
     "name": "stdout",
     "output_type": "stream",
     "text": [
      "The first 10 rows of the new DataFrame are: \n",
      "                 Package  Month  Low Price  High Price  Avg Price\n",
      "70  1 1/9 bushel cartons      9       15.0        15.0       13.5\n",
      "71  1 1/9 bushel cartons      9       18.0        18.0       16.2\n",
      "72  1 1/9 bushel cartons     10       18.0        18.0       16.2\n",
      "73  1 1/9 bushel cartons     10       17.0        17.0       15.3\n",
      "74  1 1/9 bushel cartons     10       15.0        15.0       13.5\n"
     ]
    }
   ],
   "source": [
    "# Convert the price of all cell price by 1 1/9 bushels by dividing by 1 1/9\n",
    "new_pumpkins_data.loc[new_pumpkins_data[\"Package\"].str.contains(\"1 1/9\"), \"Avg Price\"] = price/(1 + 1/9) # The loc[] method is used to access a group of rows and columns by labels or a boolean array.\n",
    "\n",
    "# Convert the price of all cell price by 1/2 bushels by dividing by 1/2\n",
    "new_pumpkins_data.loc[new_pumpkins_data[\"Package\"].str.contains(\"1/2\"), \"Avg Price\"] = price/(1/2)\n",
    "\n",
    "# Display the first 5 rows of the new DataFrame\n",
    "print(f\"The first 10 rows of the new DataFrame are: \\n{new_pumpkins_data.head()}\")"
   ]
  }
 ],
 "metadata": {
  "kernelspec": {
   "display_name": "Python 3",
   "language": "python",
   "name": "python3"
  },
  "language_info": {
   "codemirror_mode": {
    "name": "ipython",
    "version": 3
   },
   "file_extension": ".py",
   "mimetype": "text/x-python",
   "name": "python",
   "nbconvert_exporter": "python",
   "pygments_lexer": "ipython3",
   "version": "3.11.5"
  },
  "orig_nbformat": 2
 },
 "nbformat": 4,
 "nbformat_minor": 2
}
